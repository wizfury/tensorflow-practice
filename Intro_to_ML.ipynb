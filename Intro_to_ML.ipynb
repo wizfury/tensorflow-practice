{
  "nbformat": 4,
  "nbformat_minor": 0,
  "metadata": {
    "colab": {
      "provenance": [],
      "authorship_tag": "ABX9TyNX/iqCrGjM7ieimKuYwv1P",
      "include_colab_link": true
    },
    "kernelspec": {
      "name": "python3",
      "display_name": "Python 3"
    },
    "language_info": {
      "name": "python"
    }
  },
  "cells": [
    {
      "cell_type": "markdown",
      "metadata": {
        "id": "view-in-github",
        "colab_type": "text"
      },
      "source": [
        "<a href=\"https://colab.research.google.com/github/wizfury/tensorflow-practice/blob/main/Intro_to_ML.ipynb\" target=\"_parent\"><img src=\"https://colab.research.google.com/assets/colab-badge.svg\" alt=\"Open In Colab\"/></a>"
      ]
    },
    {
      "cell_type": "code",
      "execution_count": 1,
      "metadata": {
        "colab": {
          "base_uri": "https://localhost:8080/"
        },
        "id": "TdvUVZCDrH0a",
        "outputId": "424ae36f-dffc-4a78-d019-52f3f6087d21"
      },
      "outputs": [
        {
          "output_type": "stream",
          "name": "stdout",
          "text": [
            "Now running with i: 8\n",
            "Hello world, x was < 10\n",
            "Result : (8, 16)\n",
            "Now running with i: 13\n",
            "Hello world,x was >=10 but x<20\n",
            "Result : (13, 26)\n",
            "Now running with i: 18\n",
            "Hello world,x was >=10 but x<20\n",
            "Result : (18, 36)\n",
            "Now running with i: 23\n",
            "Hello world,x was >=20\n",
            "Result : (23, 46)\n"
          ]
        }
      ],
      "source": [
        "def Helloworld(x,y):\n",
        "  if (x<10):\n",
        "    print(\"Hello world, x was < 10\")\n",
        "  elif (x<20):\n",
        "    print(\"Hello world,x was >=10 but x<20\")\n",
        "  else:\n",
        "    print(\"Hello world,x was >=20\")\n",
        "  return x+y\n",
        "\n",
        "for i in range(8,25,5):\n",
        "  print(f\"Now running with i: {i}\")\n",
        "  r=Helloworld(i,i)\n",
        "  print(f\"Result : {i,r}\")"
      ]
    },
    {
      "cell_type": "code",
      "source": [],
      "metadata": {
        "id": "jLQrEyjGr_ES"
      },
      "execution_count": null,
      "outputs": []
    }
  ]
}